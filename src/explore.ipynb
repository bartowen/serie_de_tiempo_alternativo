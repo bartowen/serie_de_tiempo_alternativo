{
    "cells": [
        {
            "cell_type": "markdown",
            "metadata": {},
            "source": [
                "# Explore here"
            ]
        },
        {
            "cell_type": "code",
            "execution_count": 1,
            "metadata": {},
            "outputs": [],
            "source": [
                "import pandas as pd"
            ]
        },
        {
            "cell_type": "code",
            "execution_count": 2,
            "metadata": {},
            "outputs": [
                {
                    "data": {
                        "text/html": [
                            "<div>\n",
                            "<style scoped>\n",
                            "    .dataframe tbody tr th:only-of-type {\n",
                            "        vertical-align: middle;\n",
                            "    }\n",
                            "\n",
                            "    .dataframe tbody tr th {\n",
                            "        vertical-align: top;\n",
                            "    }\n",
                            "\n",
                            "    .dataframe thead th {\n",
                            "        text-align: right;\n",
                            "    }\n",
                            "</style>\n",
                            "<table border=\"1\" class=\"dataframe\">\n",
                            "  <thead>\n",
                            "    <tr style=\"text-align: right;\">\n",
                            "      <th></th>\n",
                            "      <th>date</th>\n",
                            "      <th>sales</th>\n",
                            "    </tr>\n",
                            "  </thead>\n",
                            "  <tbody>\n",
                            "    <tr>\n",
                            "      <th>0</th>\n",
                            "      <td>2022-09-03 17:10:08.079328</td>\n",
                            "      <td>55.292157</td>\n",
                            "    </tr>\n",
                            "    <tr>\n",
                            "      <th>1</th>\n",
                            "      <td>2022-09-04 17:10:08.079328</td>\n",
                            "      <td>53.803211</td>\n",
                            "    </tr>\n",
                            "    <tr>\n",
                            "      <th>2</th>\n",
                            "      <td>2022-09-05 17:10:08.079328</td>\n",
                            "      <td>58.141693</td>\n",
                            "    </tr>\n",
                            "    <tr>\n",
                            "      <th>3</th>\n",
                            "      <td>2022-09-06 17:10:08.079328</td>\n",
                            "      <td>64.530899</td>\n",
                            "    </tr>\n",
                            "    <tr>\n",
                            "      <th>4</th>\n",
                            "      <td>2022-09-07 17:10:08.079328</td>\n",
                            "      <td>66.013633</td>\n",
                            "    </tr>\n",
                            "  </tbody>\n",
                            "</table>\n",
                            "</div>"
                        ],
                        "text/plain": [
                            "                         date      sales\n",
                            "0  2022-09-03 17:10:08.079328  55.292157\n",
                            "1  2022-09-04 17:10:08.079328  53.803211\n",
                            "2  2022-09-05 17:10:08.079328  58.141693\n",
                            "3  2022-09-06 17:10:08.079328  64.530899\n",
                            "4  2022-09-07 17:10:08.079328  66.013633"
                        ]
                    },
                    "execution_count": 2,
                    "metadata": {},
                    "output_type": "execute_result"
                }
            ],
            "source": [
                "url = \"https://raw.githubusercontent.com/4GeeksAcademy/alternative-time-series-project/main/sales.csv\"\n",
                "df = pd.read_csv(url)\n",
                "\n",
                "df.head()"
            ]
        },
        {
            "cell_type": "code",
            "execution_count": 3,
            "metadata": {},
            "outputs": [
                {
                    "data": {
                        "text/plain": [
                            "(366, 2)"
                        ]
                    },
                    "execution_count": 3,
                    "metadata": {},
                    "output_type": "execute_result"
                }
            ],
            "source": [
                "df.shape"
            ]
        },
        {
            "cell_type": "code",
            "execution_count": 4,
            "metadata": {},
            "outputs": [
                {
                    "name": "stdout",
                    "output_type": "stream",
                    "text": [
                        "<class 'pandas.core.frame.DataFrame'>\n",
                        "RangeIndex: 366 entries, 0 to 365\n",
                        "Data columns (total 2 columns):\n",
                        " #   Column  Non-Null Count  Dtype  \n",
                        "---  ------  --------------  -----  \n",
                        " 0   date    366 non-null    object \n",
                        " 1   sales   366 non-null    float64\n",
                        "dtypes: float64(1), object(1)\n",
                        "memory usage: 5.8+ KB\n"
                    ]
                }
            ],
            "source": [
                "df.info()"
            ]
        },
        {
            "cell_type": "code",
            "execution_count": 5,
            "metadata": {},
            "outputs": [
                {
                    "data": {
                        "image/png": "[encoded data removed]",
                        "text/plain": [
                            "<Figure size 1200x600 with 1 Axes>"
                        ]
                    },
                    "metadata": {},
                    "output_type": "display_data"
                }
            ],
            "source": [
                "import matplotlib.pyplot as plt\n",
                "\n",
                "df['date'] = pd.to_datetime(df['date'])\n",
                "df.set_index('date', inplace=True)\n",
                "\n",
                "# Grafica\n",
                "plt.figure(figsize=(12, 6))\n",
                "plt.plot(df['sales'], label='Ventas')\n",
                "plt.title('Serie temporal de ventas')\n",
                "plt.xlabel('Fecha')\n",
                "plt.ylabel('Ventas')\n",
                "plt.legend()\n",
                "plt.show()"
            ]
        },
        {
            "cell_type": "markdown",
            "metadata": {},
            "source": [
                "¿Cuál es el tensor de la serie temporal?\n",
                "¿Cuál es la tendencia?\n",
                "¿Es estacionaria?\n",
                "¿Existe variabilidad o presencia de ruido?"
            ]
        },
        {
            "cell_type": "code",
            "execution_count": 6,
            "metadata": {},
            "outputs": [
                {
                    "data": {
                        "text/plain": [
                            "date\n",
                            "1 days    365\n",
                            "Name: count, dtype: int64"
                        ]
                    },
                    "execution_count": 6,
                    "metadata": {},
                    "output_type": "execute_result"
                }
            ],
            "source": [
                "# ¿Cuál es el tensor de la serie temporal?\n",
                "df.index.to_series().diff().value_counts()\n"
            ]
        },
        {
            "cell_type": "code",
            "execution_count": 7,
            "metadata": {},
            "outputs": [],
            "source": [
                "# El tensro es diario y se puede observar en el gráfico que hay una tendencia creciente en las ventas a lo largo del tiempo. \n",
                "# a simple vista no parece haber estacionalidad, pero se recomienda realizar un análisis más detallado para confirmarlo de ADF\n",
                "# Estacionaria = su media y varianza no cambian con el tiempo (sin tendencia ni estacionalidad)."
            ]
        },
        {
            "cell_type": "code",
            "execution_count": 8,
            "metadata": {},
            "outputs": [
                {
                    "name": "stdout",
                    "output_type": "stream",
                    "text": [
                        "ADF Statistic: 0.545414193706381\n",
                        "p-value: 0.9861899815311065\n"
                    ]
                }
            ],
            "source": [
                "# ADF\n",
                "from statsmodels.tsa.stattools import adfuller\n",
                "result = adfuller(df['sales'])\n",
                "print('ADF Statistic:', result[0])\n",
                "print('p-value:', result[1])"
            ]
        },
        {
            "cell_type": "code",
            "execution_count": 9,
            "metadata": {},
            "outputs": [],
            "source": [
                "# No es estacionaria porque el p-valor es mayor a 0.05, lo que indica que la serie temporal tiene una tendencia o estacionalidad.\n",
                "# Una serie tiene tendencia cuando sus valores muestran un comportamiento sostenido hacia arriba o hacia abajo en el tiempo."
            ]
        },
        {
            "cell_type": "code",
            "execution_count": 10,
            "metadata": {},
            "outputs": [
                {
                    "name": "stdout",
                    "output_type": "stream",
                    "text": [
                        "ADF Statistic (diferenciada): -9.430263118334734\n",
                        "p-value: 5.212954111417252e-16\n"
                    ]
                }
            ],
            "source": [
                "# Diferenciación de primer orden\n",
                "df['sales_diff'] = df['sales'].diff().dropna()\n",
                "\n",
                "# Volver a probar estacionariedad\n",
                "\n",
                "from statsmodels.tsa.stattools import adfuller\n",
                "result_diff = adfuller(df['sales_diff'].dropna())\n",
                "print('ADF Statistic (diferenciada):', result_diff[0])\n",
                "print('p-value:', result_diff[1])"
            ]
        },
        {
            "cell_type": "markdown",
            "metadata": {},
            "source": [
                "Una observación, por que no usar train_test_split: \n",
                "\n",
                "Las series temporales tienen dependencia temporal: lo que pasa hoy depende de lo que pasó ayer.\n",
                "\n",
                "Si usas train_test_split, cortas la serie al azar, rompiendo el orden cronológico ( el modelo vería \"futuros mezclados con pasados\", lo cual no tiene sentido en una serie temporal.)\n",
                "\n",
                "✅ ¿Qué se debe hacer?\n",
                "Usar una división secuencial: tomar el principio como entrenamiento y el final como prueba, respetando el orden del tiempo.\n",
                "CORTE SECUENCIAL ([:-n])\n"
            ]
        },
        {
            "cell_type": "code",
            "execution_count": 11,
            "metadata": {},
            "outputs": [],
            "source": [
                "# definimos el train y test\n",
                "\n",
                "train = df['sales'][:-30] #Todo menos los últimos 30 días\n",
                "test = df['sales'][-30:] #Los últimos 30 días"
            ]
        },
        {
            "cell_type": "markdown",
            "metadata": {},
            "source": [
                "Parámetro\tNombre completo\t¿Qué hace?\n",
                "\n",
                "p\tAutoRegresivo (AR)\tNúmero de pasos pasados que el modelo usa (lags).\n",
                "\n",
                "d\tIntegrado (I)\tNúmero de veces que se diferencia la serie para volverla estacionaria.\n",
                "\n",
                "q\tMedia Móvil (MA)\tNúmero de rezagos en los errores pasados que el modelo usa."
            ]
        },
        {
            "cell_type": "code",
            "execution_count": 14,
            "metadata": {},
            "outputs": [
                {
                    "name": "stdout",
                    "output_type": "stream",
                    "text": [
                        "Performing stepwise search to minimize aic\n",
                        " ARIMA(2,1,2)(0,0,0)[0] intercept   : AIC=1698.355, Time=0.56 sec\n",
                        " ARIMA(0,1,0)(0,0,0)[0] intercept   : AIC=1933.617, Time=0.01 sec\n",
                        " ARIMA(1,1,0)(0,0,0)[0] intercept   : AIC=1820.331, Time=0.03 sec\n",
                        " ARIMA(0,1,1)(0,0,0)[0] intercept   : AIC=1696.166, Time=0.11 sec\n",
                        " ARIMA(0,1,0)(0,0,0)[0]             : AIC=2035.035, Time=0.02 sec\n",
                        " ARIMA(1,1,1)(0,0,0)[0] intercept   : AIC=1695.455, Time=0.26 sec\n",
                        " ARIMA(2,1,1)(0,0,0)[0] intercept   : AIC=1697.326, Time=0.40 sec\n",
                        " ARIMA(1,1,2)(0,0,0)[0] intercept   : AIC=1700.165, Time=0.14 sec\n",
                        " ARIMA(0,1,2)(0,0,0)[0] intercept   : AIC=1695.371, Time=0.16 sec\n",
                        " ARIMA(0,1,3)(0,0,0)[0] intercept   : AIC=1697.342, Time=0.18 sec\n",
                        " ARIMA(1,1,3)(0,0,0)[0] intercept   : AIC=inf, Time=0.59 sec\n",
                        " ARIMA(0,1,2)(0,0,0)[0]             : AIC=1994.505, Time=0.05 sec\n",
                        "\n",
                        "Best model:  ARIMA(0,1,2)(0,0,0)[0] intercept\n",
                        "Total fit time: 2.514 seconds\n"
                    ]
                },
                {
                    "data": {
                        "text/html": [
                            "<table class=\"simpletable\">\n",
                            "<caption>SARIMAX Results</caption>\n",
                            "<tr>\n",
                            "  <th>Dep. Variable:</th>           <td>y</td>        <th>  No. Observations:  </th>    <td>336</td>  \n",
                            "</tr>\n",
                            "<tr>\n",
                            "  <th>Model:</th>           <td>SARIMAX(0, 1, 2)</td> <th>  Log Likelihood     </th> <td>-843.685</td>\n",
                            "</tr>\n",
                            "<tr>\n",
                            "  <th>Date:</th>            <td>Wed, 16 Jul 2025</td> <th>  AIC                </th> <td>1695.371</td>\n",
                            "</tr>\n",
                            "<tr>\n",
                            "  <th>Time:</th>                <td>09:37:37</td>     <th>  BIC                </th> <td>1710.627</td>\n",
                            "</tr>\n",
                            "<tr>\n",
                            "  <th>Sample:</th>             <td>09-03-2022</td>    <th>  HQIC               </th> <td>1701.453</td>\n",
                            "</tr>\n",
                            "<tr>\n",
                            "  <th></th>                   <td>- 08-04-2023</td>   <th>                     </th>     <td> </td>   \n",
                            "</tr>\n",
                            "<tr>\n",
                            "  <th>Covariance Type:</th>        <td>opg</td>       <th>                     </th>     <td> </td>   \n",
                            "</tr>\n",
                            "</table>\n",
                            "<table class=\"simpletable\">\n",
                            "<tr>\n",
                            "      <td></td>         <th>coef</th>     <th>std err</th>      <th>z</th>      <th>P>|z|</th>  <th>[0.025</th>    <th>0.975]</th>  \n",
                            "</tr>\n",
                            "<tr>\n",
                            "  <th>intercept</th> <td>    2.5955</td> <td>    0.011</td> <td>  241.858</td> <td> 0.000</td> <td>    2.575</td> <td>    2.617</td>\n",
                            "</tr>\n",
                            "<tr>\n",
                            "  <th>ma.L1</th>     <td>   -1.0345</td> <td>    0.051</td> <td>  -20.159</td> <td> 0.000</td> <td>   -1.135</td> <td>   -0.934</td>\n",
                            "</tr>\n",
                            "<tr>\n",
                            "  <th>ma.L2</th>     <td>    0.0966</td> <td>    0.051</td> <td>    1.891</td> <td> 0.059</td> <td>   -0.004</td> <td>    0.197</td>\n",
                            "</tr>\n",
                            "<tr>\n",
                            "  <th>sigma2</th>    <td>    8.9567</td> <td>    0.731</td> <td>   12.256</td> <td> 0.000</td> <td>    7.524</td> <td>   10.389</td>\n",
                            "</tr>\n",
                            "</table>\n",
                            "<table class=\"simpletable\">\n",
                            "<tr>\n",
                            "  <th>Ljung-Box (L1) (Q):</th>     <td>0.00</td> <th>  Jarque-Bera (JB):  </th> <td>0.64</td>\n",
                            "</tr>\n",
                            "<tr>\n",
                            "  <th>Prob(Q):</th>                <td>0.98</td> <th>  Prob(JB):          </th> <td>0.73</td>\n",
                            "</tr>\n",
                            "<tr>\n",
                            "  <th>Heteroskedasticity (H):</th> <td>0.88</td> <th>  Skew:              </th> <td>0.07</td>\n",
                            "</tr>\n",
                            "<tr>\n",
                            "  <th>Prob(H) (two-sided):</th>    <td>0.49</td> <th>  Kurtosis:          </th> <td>2.84</td>\n",
                            "</tr>\n",
                            "</table><br/><br/>Warnings:<br/>[1] Covariance matrix calculated using the outer product of gradients (complex-step)."
                        ],
                        "text/latex": [
                            "\\begin{center}\n",
                            "\\begin{tabular}{lclc}\n",
                            "\\toprule\n",
                            "\\textbf{Dep. Variable:}          &        y         & \\textbf{  No. Observations:  } &    336      \\\\\n",
                            "\\textbf{Model:}                  & SARIMAX(0, 1, 2) & \\textbf{  Log Likelihood     } &  -843.685   \\\\\n",
                            "\\textbf{Date:}                   & Wed, 16 Jul 2025 & \\textbf{  AIC                } &  1695.371   \\\\\n",
                            "\\textbf{Time:}                   &     09:37:37     & \\textbf{  BIC                } &  1710.627   \\\\\n",
                            "\\textbf{Sample:}                 &    09-03-2022    & \\textbf{  HQIC               } &  1701.453   \\\\\n",
                            "\\textbf{}                        &   - 08-04-2023   & \\textbf{                     } &             \\\\\n",
                            "\\textbf{Covariance Type:}        &       opg        & \\textbf{                     } &             \\\\\n",
                            "\\bottomrule\n",
                            "\\end{tabular}\n",
                            "\\begin{tabular}{lcccccc}\n",
                            "                   & \\textbf{coef} & \\textbf{std err} & \\textbf{z} & \\textbf{P$> |$z$|$} & \\textbf{[0.025} & \\textbf{0.975]}  \\\\\n",
                            "\\midrule\n",
                            "\\textbf{intercept} &       2.5955  &        0.011     &   241.858  &         0.000        &        2.575    &        2.617     \\\\\n",
                            "\\textbf{ma.L1}     &      -1.0345  &        0.051     &   -20.159  &         0.000        &       -1.135    &       -0.934     \\\\\n",
                            "\\textbf{ma.L2}     &       0.0966  &        0.051     &     1.891  &         0.059        &       -0.004    &        0.197     \\\\\n",
                            "\\textbf{sigma2}    &       8.9567  &        0.731     &    12.256  &         0.000        &        7.524    &       10.389     \\\\\n",
                            "\\bottomrule\n",
                            "\\end{tabular}\n",
                            "\\begin{tabular}{lclc}\n",
                            "\\textbf{Ljung-Box (L1) (Q):}     & 0.00 & \\textbf{  Jarque-Bera (JB):  } & 0.64  \\\\\n",
                            "\\textbf{Prob(Q):}                & 0.98 & \\textbf{  Prob(JB):          } & 0.73  \\\\\n",
                            "\\textbf{Heteroskedasticity (H):} & 0.88 & \\textbf{  Skew:              } & 0.07  \\\\\n",
                            "\\textbf{Prob(H) (two-sided):}    & 0.49 & \\textbf{  Kurtosis:          } & 2.84  \\\\\n",
                            "\\bottomrule\n",
                            "\\end{tabular}\n",
                            "%\\caption{SARIMAX Results}\n",
                            "\\end{center}\n",
                            "\n",
                            "Warnings: \\newline\n",
                            " [1] Covariance matrix calculated using the outer product of gradients (complex-step)."
                        ],
                        "text/plain": [
                            "<class 'statsmodels.iolib.summary.Summary'>\n",
                            "\"\"\"\n",
                            "                               SARIMAX Results                                \n",
                            "==============================================================================\n",
                            "Dep. Variable:                      y   No. Observations:                  336\n",
                            "Model:               SARIMAX(0, 1, 2)   Log Likelihood                -843.685\n",
                            "Date:                Wed, 16 Jul 2025   AIC                           1695.371\n",
                            "Time:                        09:37:37   BIC                           1710.627\n",
                            "Sample:                    09-03-2022   HQIC                          1701.453\n",
                            "                         - 08-04-2023                                         \n",
                            "Covariance Type:                  opg                                         \n",
                            "==============================================================================\n",
                            "                 coef    std err          z      P>|z|      [0.025      0.975]\n",
                            "------------------------------------------------------------------------------\n",
                            "intercept      2.5955      0.011    241.858      0.000       2.575       2.617\n",
                            "ma.L1         -1.0345      0.051    -20.159      0.000      -1.135      -0.934\n",
                            "ma.L2          0.0966      0.051      1.891      0.059      -0.004       0.197\n",
                            "sigma2         8.9567      0.731     12.256      0.000       7.524      10.389\n",
                            "===================================================================================\n",
                            "Ljung-Box (L1) (Q):                   0.00   Jarque-Bera (JB):                 0.64\n",
                            "Prob(Q):                              0.98   Prob(JB):                         0.73\n",
                            "Heteroskedasticity (H):               0.88   Skew:                             0.07\n",
                            "Prob(H) (two-sided):                  0.49   Kurtosis:                         2.84\n",
                            "===================================================================================\n",
                            "\n",
                            "Warnings:\n",
                            "[1] Covariance matrix calculated using the outer product of gradients (complex-step).\n",
                            "\"\"\""
                        ]
                    },
                    "execution_count": 14,
                    "metadata": {},
                    "output_type": "execute_result"
                }
            ],
            "source": [
                "from pmdarima import auto_arima\n",
                "\n",
                "# auto_arima encuentra p, d, q automáticamente\n",
                "model_auto = auto_arima(\n",
                "    train,\n",
                "    seasonal=False,  # No hay estacionalidad en los datos\n",
                "    d=1,             # y aesta diferenciado 1 vez\n",
                "    trace=True,      # ver los modelos que prueba\n",
                "    stepwise=True    # Hace la búsqueda más rápida\n",
                ")\n",
                "\n",
                "model_auto.summary()\n",
                "\n"
            ]
        }
    ],
    "metadata": {
        "kernelspec": {
            "display_name": "Python 3",
            "language": "python",
            "name": "python3"
        },
        "language_info": {
            "codemirror_mode": {
                "name": "ipython",
                "version": 3
            },
            "file_extension": ".py",
            "mimetype": "text/x-python",
            "name": "python",
            "nbconvert_exporter": "python",
            "pygments_lexer": "ipython3",
            "version": "3.10.5"
        },
        "orig_nbformat": 4
    },
    "nbformat": 4,
    "nbformat_minor": 2
}
